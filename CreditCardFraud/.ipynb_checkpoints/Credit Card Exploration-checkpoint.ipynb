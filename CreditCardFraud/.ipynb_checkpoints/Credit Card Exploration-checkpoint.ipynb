{
 "cells": [
  {
   "cell_type": "markdown",
   "metadata": {},
   "source": [
    "##### Import necessary libraries"
   ]
  },
  {
   "cell_type": "code",
   "execution_count": 1,
   "metadata": {},
   "outputs": [],
   "source": [
    "\n",
    "import seaborn as sns\n",
    "import matplotlib.pyplot as plt\n",
    "from sklearn.linear_model import LogisticRegression\n",
    "from sklearn.metrics import accuracy_score, precision_score, recall_score, f1_score, confusion_matrix\n",
    "from sklearn.linear_model import SGDClassifier\n",
    "from sklearn.neighbors import KNeighborsClassifier\n",
    "from sklearn.svm import SVC\n",
    "from sklearn.tree import DecisionTreeClassifier\n",
    "from sklearn.ensemble import RandomForestClassifier, AdaBoostClassifier, GradientBoostingClassifier\n",
    "from sklearn.neural_network import MLPClassifier\n",
    "from sklearn.naive_bayes import GaussianNB\n",
    "from sklearn.model_selection import train_test_split\n",
    "from imblearn.under_sampling import RandomUnderSampler, TomekLinks\n",
    "from imblearn.over_sampling import RandomOverSampler, SMOTE\n",
    "import numpy as np \n",
    "import pandas as pd\n",
    "from sklearn.preprocessing import RobustScaler\n"
   ]
  },
  {
   "cell_type": "markdown",
   "metadata": {},
   "source": [
    "**Tasks Performed:**\n",
    "1. EDA\n",
    "2. Scaling of data\n",
    "3. Handle imbalance dataset\n",
    "4. Train model with different techniques"
   ]
  },
  {
   "cell_type": "code",
   "execution_count": 2,
   "metadata": {},
   "outputs": [
    {
     "data": {
      "text/html": [
       "<div>\n",
       "<style scoped>\n",
       "    .dataframe tbody tr th:only-of-type {\n",
       "        vertical-align: middle;\n",
       "    }\n",
       "\n",
       "    .dataframe tbody tr th {\n",
       "        vertical-align: top;\n",
       "    }\n",
       "\n",
       "    .dataframe thead th {\n",
       "        text-align: right;\n",
       "    }\n",
       "</style>\n",
       "<table border=\"1\" class=\"dataframe\">\n",
       "  <thead>\n",
       "    <tr style=\"text-align: right;\">\n",
       "      <th></th>\n",
       "      <th>Time</th>\n",
       "      <th>V1</th>\n",
       "      <th>V2</th>\n",
       "      <th>V3</th>\n",
       "      <th>V4</th>\n",
       "      <th>V5</th>\n",
       "      <th>V6</th>\n",
       "      <th>V7</th>\n",
       "      <th>V8</th>\n",
       "      <th>V9</th>\n",
       "      <th>...</th>\n",
       "      <th>V21</th>\n",
       "      <th>V22</th>\n",
       "      <th>V23</th>\n",
       "      <th>V24</th>\n",
       "      <th>V25</th>\n",
       "      <th>V26</th>\n",
       "      <th>V27</th>\n",
       "      <th>V28</th>\n",
       "      <th>Amount</th>\n",
       "      <th>Class</th>\n",
       "    </tr>\n",
       "  </thead>\n",
       "  <tbody>\n",
       "    <tr>\n",
       "      <th>0</th>\n",
       "      <td>0.0</td>\n",
       "      <td>-1.359807</td>\n",
       "      <td>-0.072781</td>\n",
       "      <td>2.536347</td>\n",
       "      <td>1.378155</td>\n",
       "      <td>-0.338321</td>\n",
       "      <td>0.462388</td>\n",
       "      <td>0.239599</td>\n",
       "      <td>0.098698</td>\n",
       "      <td>0.363787</td>\n",
       "      <td>...</td>\n",
       "      <td>-0.018307</td>\n",
       "      <td>0.277838</td>\n",
       "      <td>-0.110474</td>\n",
       "      <td>0.066928</td>\n",
       "      <td>0.128539</td>\n",
       "      <td>-0.189115</td>\n",
       "      <td>0.133558</td>\n",
       "      <td>-0.021053</td>\n",
       "      <td>149.62</td>\n",
       "      <td>0</td>\n",
       "    </tr>\n",
       "    <tr>\n",
       "      <th>1</th>\n",
       "      <td>0.0</td>\n",
       "      <td>1.191857</td>\n",
       "      <td>0.266151</td>\n",
       "      <td>0.166480</td>\n",
       "      <td>0.448154</td>\n",
       "      <td>0.060018</td>\n",
       "      <td>-0.082361</td>\n",
       "      <td>-0.078803</td>\n",
       "      <td>0.085102</td>\n",
       "      <td>-0.255425</td>\n",
       "      <td>...</td>\n",
       "      <td>-0.225775</td>\n",
       "      <td>-0.638672</td>\n",
       "      <td>0.101288</td>\n",
       "      <td>-0.339846</td>\n",
       "      <td>0.167170</td>\n",
       "      <td>0.125895</td>\n",
       "      <td>-0.008983</td>\n",
       "      <td>0.014724</td>\n",
       "      <td>2.69</td>\n",
       "      <td>0</td>\n",
       "    </tr>\n",
       "    <tr>\n",
       "      <th>2</th>\n",
       "      <td>1.0</td>\n",
       "      <td>-1.358354</td>\n",
       "      <td>-1.340163</td>\n",
       "      <td>1.773209</td>\n",
       "      <td>0.379780</td>\n",
       "      <td>-0.503198</td>\n",
       "      <td>1.800499</td>\n",
       "      <td>0.791461</td>\n",
       "      <td>0.247676</td>\n",
       "      <td>-1.514654</td>\n",
       "      <td>...</td>\n",
       "      <td>0.247998</td>\n",
       "      <td>0.771679</td>\n",
       "      <td>0.909412</td>\n",
       "      <td>-0.689281</td>\n",
       "      <td>-0.327642</td>\n",
       "      <td>-0.139097</td>\n",
       "      <td>-0.055353</td>\n",
       "      <td>-0.059752</td>\n",
       "      <td>378.66</td>\n",
       "      <td>0</td>\n",
       "    </tr>\n",
       "    <tr>\n",
       "      <th>3</th>\n",
       "      <td>1.0</td>\n",
       "      <td>-0.966272</td>\n",
       "      <td>-0.185226</td>\n",
       "      <td>1.792993</td>\n",
       "      <td>-0.863291</td>\n",
       "      <td>-0.010309</td>\n",
       "      <td>1.247203</td>\n",
       "      <td>0.237609</td>\n",
       "      <td>0.377436</td>\n",
       "      <td>-1.387024</td>\n",
       "      <td>...</td>\n",
       "      <td>-0.108300</td>\n",
       "      <td>0.005274</td>\n",
       "      <td>-0.190321</td>\n",
       "      <td>-1.175575</td>\n",
       "      <td>0.647376</td>\n",
       "      <td>-0.221929</td>\n",
       "      <td>0.062723</td>\n",
       "      <td>0.061458</td>\n",
       "      <td>123.50</td>\n",
       "      <td>0</td>\n",
       "    </tr>\n",
       "    <tr>\n",
       "      <th>4</th>\n",
       "      <td>2.0</td>\n",
       "      <td>-1.158233</td>\n",
       "      <td>0.877737</td>\n",
       "      <td>1.548718</td>\n",
       "      <td>0.403034</td>\n",
       "      <td>-0.407193</td>\n",
       "      <td>0.095921</td>\n",
       "      <td>0.592941</td>\n",
       "      <td>-0.270533</td>\n",
       "      <td>0.817739</td>\n",
       "      <td>...</td>\n",
       "      <td>-0.009431</td>\n",
       "      <td>0.798278</td>\n",
       "      <td>-0.137458</td>\n",
       "      <td>0.141267</td>\n",
       "      <td>-0.206010</td>\n",
       "      <td>0.502292</td>\n",
       "      <td>0.219422</td>\n",
       "      <td>0.215153</td>\n",
       "      <td>69.99</td>\n",
       "      <td>0</td>\n",
       "    </tr>\n",
       "  </tbody>\n",
       "</table>\n",
       "<p>5 rows × 31 columns</p>\n",
       "</div>"
      ],
      "text/plain": [
       "   Time        V1        V2        V3        V4        V5        V6        V7  \\\n",
       "0   0.0 -1.359807 -0.072781  2.536347  1.378155 -0.338321  0.462388  0.239599   \n",
       "1   0.0  1.191857  0.266151  0.166480  0.448154  0.060018 -0.082361 -0.078803   \n",
       "2   1.0 -1.358354 -1.340163  1.773209  0.379780 -0.503198  1.800499  0.791461   \n",
       "3   1.0 -0.966272 -0.185226  1.792993 -0.863291 -0.010309  1.247203  0.237609   \n",
       "4   2.0 -1.158233  0.877737  1.548718  0.403034 -0.407193  0.095921  0.592941   \n",
       "\n",
       "         V8        V9  ...       V21       V22       V23       V24       V25  \\\n",
       "0  0.098698  0.363787  ... -0.018307  0.277838 -0.110474  0.066928  0.128539   \n",
       "1  0.085102 -0.255425  ... -0.225775 -0.638672  0.101288 -0.339846  0.167170   \n",
       "2  0.247676 -1.514654  ...  0.247998  0.771679  0.909412 -0.689281 -0.327642   \n",
       "3  0.377436 -1.387024  ... -0.108300  0.005274 -0.190321 -1.175575  0.647376   \n",
       "4 -0.270533  0.817739  ... -0.009431  0.798278 -0.137458  0.141267 -0.206010   \n",
       "\n",
       "        V26       V27       V28  Amount  Class  \n",
       "0 -0.189115  0.133558 -0.021053  149.62      0  \n",
       "1  0.125895 -0.008983  0.014724    2.69      0  \n",
       "2 -0.139097 -0.055353 -0.059752  378.66      0  \n",
       "3 -0.221929  0.062723  0.061458  123.50      0  \n",
       "4  0.502292  0.219422  0.215153   69.99      0  \n",
       "\n",
       "[5 rows x 31 columns]"
      ]
     },
     "execution_count": 2,
     "metadata": {},
     "output_type": "execute_result"
    }
   ],
   "source": [
    "## Read the dataset, data can be get from https://www.kaggle.com/mlg-ulb/creditcardfraud\n",
    "path = \"creditcard.csv\"\n",
    "dataset = pd.read_csv(path)\n",
    "dataset.head()"
   ]
  },
  {
   "cell_type": "code",
   "execution_count": null,
   "metadata": {},
   "outputs": [],
   "source": [
    "## There are two classes where 0 is non-fraud and 1 fraud data\n",
    "dataset['Class'].unique()"
   ]
  },
  {
   "cell_type": "code",
   "execution_count": null,
   "metadata": {},
   "outputs": [],
   "source": [
    "## Check total number of fraud and non-fraud cases\n",
    "print('Total number of non-fraud data: {}'.format(dataset[dataset['Class'] == 0].shape[0]))\n",
    "print('Total number of fraud data: {}'.format(dataset[dataset['Class'] == 1].shape[0]))\n",
    "\n",
    "print('Percentage of non-fraud data: {}'.format(round((dataset[dataset['Class'] == 0].shape[0]/dataset.shape[0]) * 100,2)))\n",
    "print('Percentage of fraud data: {}'.format(round((dataset[dataset['Class'] == 1].shape[0]/dataset.shape[0]) * 100, 2)))"
   ]
  },
  {
   "cell_type": "markdown",
   "metadata": {},
   "source": [
    "Conclusion: We can see that the data is heavily imbalanced with fraud data of just 0.17%"
   ]
  },
  {
   "cell_type": "code",
   "execution_count": null,
   "metadata": {},
   "outputs": [],
   "source": [
    "## Total number of null entries\n",
    "dataset.isna().sum().sum()"
   ]
  },
  {
   "cell_type": "markdown",
   "metadata": {},
   "source": [
    "Conclusion: There are no null entries"
   ]
  },
  {
   "cell_type": "code",
   "execution_count": null,
   "metadata": {},
   "outputs": [],
   "source": [
    "## Countplot for Class attribute\n",
    "sns.countplot('Class', data=dataset)\n",
    "plt.title(\"Count plot for fraud data \\n (0 = Non-Fraud, 1 = Fraud)\")"
   ]
  },
  {
   "cell_type": "code",
   "execution_count": null,
   "metadata": {},
   "outputs": [],
   "source": [
    "## Distribution of amount\n",
    "sns.distplot(dataset['Amount'])"
   ]
  },
  {
   "cell_type": "code",
   "execution_count": null,
   "metadata": {},
   "outputs": [],
   "source": [
    "fraud_dataset = dataset[dataset['Class'] == 1]\n",
    "\n",
    "## Distribution of amount for fraud data\n",
    "sns.distplot(fraud_dataset['Amount'], bins=10)\n",
    "sns.boxplot(x='Amount', data=fraud_dataset)\n",
    "fraud_dataset['Amount'].describe()"
   ]
  },
  {
   "cell_type": "markdown",
   "metadata": {},
   "source": [
    "Conclusion: From above we can see max fraud data is till 106 amount"
   ]
  },
  {
   "cell_type": "code",
   "execution_count": null,
   "metadata": {},
   "outputs": [],
   "source": [
    "## Distribution of amount for normal data records\n",
    "non_fraud_dataset = dataset[dataset['Class'] == 0]\n",
    "sns.distplot(non_fraud_dataset['Amount'], bins=10)\n",
    "non_fraud_dataset['Amount'].describe()"
   ]
  },
  {
   "cell_type": "markdown",
   "metadata": {},
   "source": [
    "**Conclusion: here we can see non-fraud amount is less than 77 and its max is 35691**"
   ]
  },
  {
   "cell_type": "code",
   "execution_count": null,
   "metadata": {},
   "outputs": [],
   "source": [
    "## Overall distribution of time\n",
    "sns.distplot(dataset['Time'])\n",
    "\n",
    "## Distribution of time for fraud records\n",
    "sns.distplot(fraud_dataset['Time'])\n",
    "\n",
    "## Distribution of time for non-fraud records\n",
    "sns.distplot(non_fraud_dataset['Time'])"
   ]
  },
  {
   "cell_type": "code",
   "execution_count": null,
   "metadata": {},
   "outputs": [],
   "source": [
    "## As Time and amount have long range, lets scale them to get best result\n",
    "robust_scaler = RobustScaler()\n",
    "\n",
    "dataset['scaled_amount'] = robust_scaler.fit_transform(dataset['Amount'].values.reshape(-1,1))\n",
    "dataset['scaled_time'] = robust_scaler.fit_transform(dataset['Time'].values.reshape(-1,1))\n",
    "\n",
    "dataset.drop(['Time','Amount'], axis=1, inplace=True)"
   ]
  },
  {
   "cell_type": "markdown",
   "metadata": {},
   "source": [
    "**Let us now handle the imbalance dataset through below techniques:**\n",
    "\n",
    "Below are undersampling techniques:\n",
    "1. Random undersampling\n",
    "2. Imblearn Randomundersampling\n",
    "3. Imblearn Tomelink undersampling\n",
    "\n",
    "Below are oversampling techniques:\n",
    "1. Random Oversampling\n",
    "2. Imblearn Random oversampling\n",
    "3. Imblearn SMOTE"
   ]
  },
  {
   "cell_type": "code",
   "execution_count": null,
   "metadata": {},
   "outputs": [],
   "source": [
    "non_fraud_count, fraud_count = dataset['Class'].value_counts()\n",
    "print(\"Total number of non-fraud cases are {}, and fraud cases are {} \".format(non_fraud_count, fraud_count))\n",
    "\n",
    "non_fraud = dataset[dataset['Class']==0]\n",
    "fraud = dataset[dataset['Class']==1]"
   ]
  },
  {
   "cell_type": "markdown",
   "metadata": {},
   "source": [
    "**Random Undersampling**"
   ]
  },
  {
   "cell_type": "code",
   "execution_count": null,
   "metadata": {},
   "outputs": [],
   "source": [
    "non_fraud_undersample = non_fraud.sample(fraud_count)\n",
    "## Create new dataset with fraud data and non-fraud undersampled data\n",
    "random_sampling_data = fraud.append(non_fraud_undersample)\n",
    "x_random_undersample = random_sampling_data.drop('Class', axis=1)\n",
    "y_random_undersample = random_sampling_data['Class']\n",
    "sns.countplot(x='Class', data=random_sampling_data)"
   ]
  },
  {
   "cell_type": "markdown",
   "metadata": {},
   "source": [
    "**Imbalance randomundersampling**"
   ]
  },
  {
   "cell_type": "code",
   "execution_count": null,
   "metadata": {},
   "outputs": [],
   "source": [
    "X = dataset.drop('Class', axis=1)\n",
    "y = dataset['Class']\n",
    "under_sampler = RandomUnderSampler(replacement=True)\n",
    "x_imb_random_undersample, y_imb_random_undersample= under_sampler.fit_resample(X,y)"
   ]
  },
  {
   "cell_type": "markdown",
   "metadata": {},
   "source": [
    "**Random Oversampling**"
   ]
  },
  {
   "cell_type": "code",
   "execution_count": null,
   "metadata": {},
   "outputs": [],
   "source": [
    "fraud_oversampling_data = fraud.sample(non_fraud_count, replace=True)\n",
    "oversampling_data = fraud_oversampling_data.append(non_fraud)\n",
    "x_random_oversample = oversampling_data.drop(['Class'], axis=1)\n",
    "y_random_oversample = oversampling_data['Class']"
   ]
  },
  {
   "cell_type": "markdown",
   "metadata": {},
   "source": [
    "**Imbalance Random oversampling**"
   ]
  },
  {
   "cell_type": "code",
   "execution_count": null,
   "metadata": {},
   "outputs": [],
   "source": [
    "X = dataset.drop('Class', axis=1)\n",
    "y = dataset['Class']\n",
    "imb_random_oversampler = RandomOverSampler()\n",
    "x_imb_random_oversample, y_imb_random_oversample= imb_random_oversampler.fit_resample(X,y)"
   ]
  },
  {
   "cell_type": "markdown",
   "metadata": {},
   "source": [
    "**Imbalance SMOTE**"
   ]
  },
  {
   "cell_type": "code",
   "execution_count": null,
   "metadata": {},
   "outputs": [],
   "source": [
    "smote = SMOTE()\n",
    "x_imb_smote, y_imb_smote = smote.fit_resample(X,y)"
   ]
  },
  {
   "cell_type": "code",
   "execution_count": null,
   "metadata": {},
   "outputs": [],
   "source": [
    "## Different models to check performance\n",
    "def createLogisticModel(x,y):\n",
    "    model = LogisticRegression();\n",
    "    model.fit(x,y)\n",
    "    return model\n",
    "\n",
    "def createKnnModel(x,y):\n",
    "    model = KNeighborsClassifier(n_neighbors=5)\n",
    "    model.fit(x,y)\n",
    "    return model\n",
    "\n",
    "def createSvmModel(x,y):\n",
    "    model = SVC()\n",
    "    model.fit(x,y)\n",
    "    return model\n",
    "\n",
    "def createSGDClassifier(x,y):\n",
    "    model = SGDClassifier()\n",
    "    model.fit(x,y)\n",
    "    return model\n",
    "\n",
    "def createDecisionTreeClassifier(x,y):\n",
    "    model = DecisionTreeClassifier()\n",
    "    model.fit(x,y)\n",
    "    return model\n",
    "\n",
    "def createRandomForestClassifier(x,y):\n",
    "    model = RandomForestClassifier()\n",
    "    model.fit(x,y)\n",
    "    return model\n",
    "\n",
    "def createAdaBoostClassifier(x,y):\n",
    "    model = AdaBoostClassifier()\n",
    "    model.fit(x,y)\n",
    "    return model\n",
    "\n",
    "def createGradientBoostingClassifier(x,y):\n",
    "    model = GradientBoostingClassifier()\n",
    "    model.fit(x,y)\n",
    "    return model\n",
    "\n",
    "def createMLPClassifier(x,y):\n",
    "    model = MLPClassifier(random_state=48, hidden_layer_sizes=(150, 100, 50), max_iter=150, activation='relu',\n",
    "                              solver='adam')\n",
    "    model.fit(x,y)\n",
    "    return model"
   ]
  },
  {
   "cell_type": "code",
   "execution_count": null,
   "metadata": {},
   "outputs": [],
   "source": [
    "## Different metrics to measure performance\n",
    "def performanceMetrics(X_test, y_test, model, name):\n",
    "    y_pred = model.predict(X_test)\n",
    "    print(\"The confusion matrix for the {} model is: {}\".format(name, confusion_matrix(y_test, y_pred)))\n",
    "    print(\"The accuracy score for the {} model is: {}\".format(name, accuracy_score(y_test, y_pred)))\n",
    "    print(\"The precision score for the {} model is: {}\".format(name, precision_score(y_test, y_pred)))\n",
    "    print(\"The recall score for the {} model is: {}\".format(name, recall_score(y_test, y_pred)))\n",
    "    print(\"The f1 score for the {} model is: {}\".format(name, f1_score(y_test, y_pred)))\n",
    "    "
   ]
  },
  {
   "cell_type": "code",
   "execution_count": null,
   "metadata": {},
   "outputs": [],
   "source": [
    "## Train model and check performance\n",
    "def trainModelAndCheckPerformance(x, y):\n",
    "    X_train, X_test, y_train, y_test = train_test_split(x,y, test_size=0.2)\n",
    "    ## Create Different model and see their performance\n",
    "    model = createLogisticModel(X_train,y_train)\n",
    "    performanceMetrics(X_test, y_test, model, \"Logistic Regression\")\n",
    "    print(\"--------------------------------------------------------------------------------------\")\n",
    "    model = createSvmModel(X_train,y_train)\n",
    "    performanceMetrics(X_test, y_test, model, \"Support Vector Machine\")\n",
    "    print(\"--------------------------------------------------------------------------------------\")\n",
    "    model = createDecisionTreeClassifier(X_train,y_train)\n",
    "    performanceMetrics(X_test, y_test, model, \"Decision Tree Classifier\")\n",
    "    print(\"--------------------------------------------------------------------------------------\")\n",
    "    model = createAdaBoostClassifier(X_train,y_train)\n",
    "    performanceMetrics(X_test, y_test, model, \"Ada Boost classifier\")\n",
    "    print(\"--------------------------------------------------------------------------------------\")\n",
    "    model = createGradientBoostingClassifier(X_train,y_train)\n",
    "    performanceMetrics(X_test, y_test, model, \"Gradient Boosting classifier\")\n",
    "    print(\"--------------------------------------------------------------------------------------\")\n",
    "    model = createKnnModel(X_train,y_train)\n",
    "    performanceMetrics(X_test, y_test, model, \"K nearest neighbour\")\n",
    "    print(\"--------------------------------------------------------------------------------------\")\n",
    "    model = createMLPClassifier(X_train,y_train)\n",
    "    performanceMetrics(X_test, y_test, model, \"Multilayer perceptron\")\n",
    "    print(\"--------------------------------------------------------------------------------------\")\n",
    "    model = createSvmModel(X_train,y_train)\n",
    "    performanceMetrics(X_test, y_test, model, \"Support Vector Machine\")\n",
    "    print(\"--------------------------------------------------------------------------------------\")"
   ]
  },
  {
   "cell_type": "code",
   "execution_count": null,
   "metadata": {},
   "outputs": [],
   "source": [
    "print(\"Random undersampling ----------------------------------- \")\n",
    "trainModelAndCheckPerformance(x_random_undersample, y_random_undersample)\n",
    "print(\"Imbalance undersampling ----------------------------------- \")\n",
    "trainModelAndCheckPerformance(x_imb_random_undersample, y_imb_random_undersample)\n",
    "print(\"Random Oversampling ----------------------------------- \")\n",
    "trainModelAndCheckPerformance(x_random_oversample, y_random_oversample)\n",
    "print(\"Imbalance randome oversampling ----------------------------------- \")\n",
    "trainModelAndCheckPerformance(x_imb_random_oversample, y_imb_random_oversample)\n",
    "print(\"Imbalance smote ----------------------------------- \")\n",
    "trainModelAndCheckPerformance(x_imb_smote, y_imb_smote)"
   ]
  }
 ],
 "metadata": {
  "kernelspec": {
   "display_name": "Python 3",
   "language": "python",
   "name": "python3"
  },
  "language_info": {
   "codemirror_mode": {
    "name": "ipython",
    "version": 3
   },
   "file_extension": ".py",
   "mimetype": "text/x-python",
   "name": "python",
   "nbconvert_exporter": "python",
   "pygments_lexer": "ipython3",
   "version": "3.8.5"
  }
 },
 "nbformat": 4,
 "nbformat_minor": 4
}
